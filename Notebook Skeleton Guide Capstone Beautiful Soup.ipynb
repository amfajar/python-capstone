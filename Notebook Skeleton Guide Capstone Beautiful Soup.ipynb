{
 "cells": [
  {
   "cell_type": "markdown",
   "metadata": {},
   "source": [
    "# Capstone Webscrapping using BeautifulSoup\n",
    "\n",
    "This notebook contains guidances & tasks on the data processing for the application\n",
    "\n",
    "(Please insert the background here )\n",
    "\n",
    "\n",
    "## Requesting the Data and Creating a BeautifulSoup\n",
    "\n",
    "Let's begin with requesting the web from the site with `get` method."
   ]
  },
  {
   "cell_type": "code",
   "execution_count": 2,
   "metadata": {
    "ExecuteTime": {
     "end_time": "2020-01-13T05:12:23.275508Z",
     "start_time": "2020-01-13T05:12:20.009898Z"
    }
   },
   "outputs": [],
   "source": [
    "import requests\n",
    "\n",
    "url_get = requests.get('https://www.imdb.com/search/title/?release_date=2019-01-01,2019-12-31')"
   ]
  },
  {
   "cell_type": "markdown",
   "metadata": {},
   "source": [
    "To visualize what exactly you get from the `request.get`, we can use .content so ee what we exactly get, in here i slice it so it won't make our screen full of the html we get from the page. You can delete the slicing if you want to see what we fully get."
   ]
  },
  {
   "cell_type": "code",
   "execution_count": 3,
   "metadata": {
    "ExecuteTime": {
     "end_time": "2020-01-13T05:12:23.290648Z",
     "start_time": "2020-01-13T05:12:23.277650Z"
    }
   },
   "outputs": [
    {
     "data": {
      "text/plain": [
       "b'\\n<!DOCTYPE html>\\n<html\\n    xmlns:og=\"http://ogp.me/ns#\"\\n    xmlns:fb=\"http://www.facebook.com/2008/fbml\">\\n    <head>\\n         \\n        <meta charset=\"utf-8\">\\n        <meta http-equiv=\"X-UA-Compatible\" content=\"IE=edge\">\\n\\n    <meta name=\"apple-itunes-app\" content=\"app-id=342792525, app-argument=imdb:///?src=mdot\">\\n\\n\\n\\n        <script type=\"text/javascript\">var IMDbTimer={starttime: new Date().getTime(),pt:\\'java\\'};</script>\\n\\n<script>\\n    if (typeof uet == \\'function\\') {\\n      uet(\"bb\", \"LoadTitle\", {wb: 1});\\n    }\\n</script>\\n  <script>(function(t){ (t.events = t.events || {})[\"csm_head_pre_title\"] = new Date().getTime(); })(IMDbTimer);</script>\\n        <title>Released between 2019-01-01 and 2019-12-31\\n(Sorted by Popularity Ascending) - IMDb</title>\\n  <script>(function(t)'"
      ]
     },
     "execution_count": 3,
     "metadata": {},
     "output_type": "execute_result"
    }
   ],
   "source": [
    "url_get.content[1:777]"
   ]
  },
  {
   "cell_type": "markdown",
   "metadata": {},
   "source": [
    "As we can see we get a very unstructured and complex html, which actually contains the codes needed to show the webpages on your web browser. But we as human still confused what and where we can use that piece of code, so here where we use the beautifulsoup. Beautiful soup class will result a beautifulsoup object. Beautiful Soup transforms a complex HTML document into a complex tree of Python objects. \n",
    "\n",
    "Let's make Beautiful soup object and feel free to explore the object here."
   ]
  },
  {
   "cell_type": "code",
   "execution_count": 4,
   "metadata": {
    "ExecuteTime": {
     "end_time": "2020-01-13T05:12:23.808122Z",
     "start_time": "2020-01-13T05:12:23.292610Z"
    }
   },
   "outputs": [
    {
     "name": "stdout",
     "output_type": "stream",
     "text": [
      "<class 'bs4.BeautifulSoup'>\n"
     ]
    }
   ],
   "source": [
    "from bs4 import BeautifulSoup \n",
    "\n",
    "soup = BeautifulSoup(url_get.content,\"html.parser\")\n",
    "print(type(soup))"
   ]
  },
  {
   "cell_type": "markdown",
   "metadata": {},
   "source": [
    "## Finding the right key to scrap the data & Extracting the right information"
   ]
  },
  {
   "cell_type": "markdown",
   "metadata": {},
   "source": [
    "Find the key and put the key into the `.find()` Put all the exploring the right key at this cell. (please change this markdown with your explanation)"
   ]
  },
  {
   "cell_type": "code",
   "execution_count": 5,
   "metadata": {
    "ExecuteTime": {
     "end_time": "2020-01-13T05:12:23.878904Z",
     "start_time": "2020-01-13T05:12:23.854974Z"
    }
   },
   "outputs": [
    {
     "name": "stdout",
     "output_type": "stream",
     "text": [
      "<class 'bs4.element.ResultSet'>\n",
      "50\n"
     ]
    }
   ],
   "source": [
    "movie_containers = soup.find_all('div', class_ = 'lister-item mode-advanced')\n",
    "print(type(movie_containers))\n",
    "print(len(movie_containers))"
   ]
  },
  {
   "cell_type": "markdown",
   "metadata": {},
   "source": [
    "Do the scrapping process here (please change this markdown with your explanation)"
   ]
  },
  {
   "cell_type": "code",
   "execution_count": 6,
   "metadata": {
    "ExecuteTime": {
     "end_time": "2020-01-13T05:12:24.008256Z",
     "start_time": "2020-01-13T05:12:23.980358Z"
    }
   },
   "outputs": [],
   "source": [
    "# Lists to store the scraped data in\n",
    "names = []\n",
    "years = []\n",
    "imdb_ratings = []\n",
    "votes = []\n",
    "genres = []\n",
    "durations = []\n",
    "\n",
    "# Extract data from individual movie container\n",
    "for container in movie_containers:\n",
    "# If the movie has Metascore, then extract:\n",
    "    if container.find('div') is not None:\n",
    "\n",
    "        # The name\n",
    "        name = container.h3.a.text\n",
    "        names.append(name)\n",
    "\n",
    "        # The year\n",
    "        year = container.h3.find('span', class_ = 'lister-item-year').text\n",
    "        years.append(year)\n",
    "        \n",
    "        #duration\n",
    "        duration = container.p.find('span', class_ = 'runtime').text\n",
    "        durations.append(duration)\n",
    "        \n",
    "        #genres\n",
    "        genre = container.p.find('span', class_ = 'genre').text\n",
    "        genres.append(genre)\n",
    "\n",
    "        # The IMDB rating\n",
    "        imdb = float(container.strong.text)\n",
    "        imdb_ratings.append(imdb)\n",
    "\n",
    "        # The number of votes\n",
    "        vote = container.find('span', attrs = {'name':'nv'})['data-value']\n",
    "        votes.append(int(vote))"
   ]
  },
  {
   "cell_type": "markdown",
   "metadata": {},
   "source": [
    "## Creating data frame & Data wrangling"
   ]
  },
  {
   "cell_type": "markdown",
   "metadata": {},
   "source": [
    "Put the array into dataframe"
   ]
  },
  {
   "cell_type": "code",
   "execution_count": 7,
   "metadata": {
    "ExecuteTime": {
     "end_time": "2020-01-13T05:12:41.517372Z",
     "start_time": "2020-01-13T05:12:29.130015Z"
    }
   },
   "outputs": [
    {
     "name": "stdout",
     "output_type": "stream",
     "text": [
      "<class 'pandas.core.frame.DataFrame'>\n",
      "RangeIndex: 50 entries, 0 to 49\n",
      "Data columns (total 6 columns):\n",
      " #   Column         Non-Null Count  Dtype  \n",
      "---  ------         --------------  -----  \n",
      " 0   movie          50 non-null     object \n",
      " 1   durasi(menit)  50 non-null     object \n",
      " 2   genre          50 non-null     object \n",
      " 3   year           50 non-null     object \n",
      " 4   imdb           50 non-null     float64\n",
      " 5   votes          50 non-null     int64  \n",
      "dtypes: float64(1), int64(1), object(4)\n",
      "memory usage: 2.5+ KB\n",
      "None\n"
     ]
    },
    {
     "data": {
      "text/html": [
       "<div>\n",
       "<style scoped>\n",
       "    .dataframe tbody tr th:only-of-type {\n",
       "        vertical-align: middle;\n",
       "    }\n",
       "\n",
       "    .dataframe tbody tr th {\n",
       "        vertical-align: top;\n",
       "    }\n",
       "\n",
       "    .dataframe thead th {\n",
       "        text-align: right;\n",
       "    }\n",
       "</style>\n",
       "<table border=\"1\" class=\"dataframe\">\n",
       "  <thead>\n",
       "    <tr style=\"text-align: right;\">\n",
       "      <th></th>\n",
       "      <th>movie</th>\n",
       "      <th>durasi(menit)</th>\n",
       "      <th>genre</th>\n",
       "      <th>year</th>\n",
       "      <th>imdb</th>\n",
       "      <th>votes</th>\n",
       "    </tr>\n",
       "  </thead>\n",
       "  <tbody>\n",
       "    <tr>\n",
       "      <th>0</th>\n",
       "      <td>The Mandalorian</td>\n",
       "      <td>40 min</td>\n",
       "      <td>\\nAction, Adventure, Sci-Fi</td>\n",
       "      <td>(2019– )</td>\n",
       "      <td>8.8</td>\n",
       "      <td>296878</td>\n",
       "    </tr>\n",
       "    <tr>\n",
       "      <th>1</th>\n",
       "      <td>For All Mankind</td>\n",
       "      <td>60 min</td>\n",
       "      <td>\\nDrama, Sci-Fi</td>\n",
       "      <td>(2019– )</td>\n",
       "      <td>7.7</td>\n",
       "      <td>13906</td>\n",
       "    </tr>\n",
       "    <tr>\n",
       "      <th>2</th>\n",
       "      <td>The Boys</td>\n",
       "      <td>60 min</td>\n",
       "      <td>\\nAction, Comedy, Crime</td>\n",
       "      <td>(2019– )</td>\n",
       "      <td>8.7</td>\n",
       "      <td>251642</td>\n",
       "    </tr>\n",
       "    <tr>\n",
       "      <th>3</th>\n",
       "      <td>Avengers: Endgame</td>\n",
       "      <td>181 min</td>\n",
       "      <td>\\nAction, Adventure, Drama</td>\n",
       "      <td>(2019)</td>\n",
       "      <td>8.4</td>\n",
       "      <td>827454</td>\n",
       "    </tr>\n",
       "    <tr>\n",
       "      <th>4</th>\n",
       "      <td>The Witcher</td>\n",
       "      <td>60 min</td>\n",
       "      <td>\\nAction, Adventure, Fantasy</td>\n",
       "      <td>(2019– )</td>\n",
       "      <td>8.2</td>\n",
       "      <td>303278</td>\n",
       "    </tr>\n",
       "  </tbody>\n",
       "</table>\n",
       "</div>"
      ],
      "text/plain": [
       "               movie durasi(menit)                                     genre  \\\n",
       "0    The Mandalorian        40 min   \\nAction, Adventure, Sci-Fi               \n",
       "1    For All Mankind        60 min               \\nDrama, Sci-Fi               \n",
       "2           The Boys        60 min       \\nAction, Comedy, Crime               \n",
       "3  Avengers: Endgame       181 min    \\nAction, Adventure, Drama               \n",
       "4        The Witcher        60 min  \\nAction, Adventure, Fantasy               \n",
       "\n",
       "       year  imdb   votes  \n",
       "0  (2019– )   8.8  296878  \n",
       "1  (2019– )   7.7   13906  \n",
       "2  (2019– )   8.7  251642  \n",
       "3    (2019)   8.4  827454  \n",
       "4  (2019– )   8.2  303278  "
      ]
     },
     "execution_count": 7,
     "metadata": {},
     "output_type": "execute_result"
    }
   ],
   "source": [
    "import pandas as pd\n",
    "df = pd.DataFrame({'movie': names,\n",
    "'durasi(menit)': durations,\n",
    "'genre': genres,\n",
    "'year': years,\n",
    "'imdb': imdb_ratings,\n",
    "'votes': votes\n",
    "})\n",
    "print(df.info())\n",
    "df.head()"
   ]
  },
  {
   "cell_type": "markdown",
   "metadata": {},
   "source": [
    "Do the data cleaning here (please change this markdown with your explanation of what you do for data wrangling)"
   ]
  },
  {
   "cell_type": "code",
   "execution_count": 8,
   "metadata": {
    "ExecuteTime": {
     "end_time": "2020-01-13T05:12:59.165559Z",
     "start_time": "2020-01-13T05:12:58.910012Z"
    },
    "scrolled": true
   },
   "outputs": [
    {
     "name": "stderr",
     "output_type": "stream",
     "text": [
      "/home/malik/anaconda3/envs/python-capstone/lib/python3.7/site-packages/ipykernel_launcher.py:1: FutureWarning: The default value of regex will change from True to False in a future version. In addition, single character regular expressions will*not* be treated as literal strings when regex=True.\n",
      "  \"\"\"Entry point for launching an IPython kernel.\n",
      "/home/malik/anaconda3/envs/python-capstone/lib/python3.7/site-packages/ipykernel_launcher.py:2: FutureWarning: The default value of regex will change from True to False in a future version. In addition, single character regular expressions will*not* be treated as literal strings when regex=True.\n",
      "  \n"
     ]
    },
    {
     "data": {
      "text/html": [
       "<div>\n",
       "<style scoped>\n",
       "    .dataframe tbody tr th:only-of-type {\n",
       "        vertical-align: middle;\n",
       "    }\n",
       "\n",
       "    .dataframe tbody tr th {\n",
       "        vertical-align: top;\n",
       "    }\n",
       "\n",
       "    .dataframe thead th {\n",
       "        text-align: right;\n",
       "    }\n",
       "</style>\n",
       "<table border=\"1\" class=\"dataframe\">\n",
       "  <thead>\n",
       "    <tr style=\"text-align: right;\">\n",
       "      <th></th>\n",
       "      <th>movie</th>\n",
       "      <th>durasi(menit)</th>\n",
       "      <th>genre</th>\n",
       "      <th>year</th>\n",
       "      <th>imdb</th>\n",
       "      <th>votes</th>\n",
       "    </tr>\n",
       "  </thead>\n",
       "  <tbody>\n",
       "    <tr>\n",
       "      <th>0</th>\n",
       "      <td>The Mandalorian</td>\n",
       "      <td>40</td>\n",
       "      <td>Action, Adventure, Sci-Fi</td>\n",
       "      <td>2019</td>\n",
       "      <td>8.8</td>\n",
       "      <td>296878</td>\n",
       "    </tr>\n",
       "    <tr>\n",
       "      <th>1</th>\n",
       "      <td>For All Mankind</td>\n",
       "      <td>60</td>\n",
       "      <td>Drama, Sci-Fi</td>\n",
       "      <td>2019</td>\n",
       "      <td>7.7</td>\n",
       "      <td>13906</td>\n",
       "    </tr>\n",
       "    <tr>\n",
       "      <th>2</th>\n",
       "      <td>The Boys</td>\n",
       "      <td>60</td>\n",
       "      <td>Action, Comedy, Crime</td>\n",
       "      <td>2019</td>\n",
       "      <td>8.7</td>\n",
       "      <td>251642</td>\n",
       "    </tr>\n",
       "    <tr>\n",
       "      <th>3</th>\n",
       "      <td>Avengers: Endgame</td>\n",
       "      <td>181</td>\n",
       "      <td>Action, Adventure, Drama</td>\n",
       "      <td>2019</td>\n",
       "      <td>8.4</td>\n",
       "      <td>827454</td>\n",
       "    </tr>\n",
       "    <tr>\n",
       "      <th>4</th>\n",
       "      <td>The Witcher</td>\n",
       "      <td>60</td>\n",
       "      <td>Action, Adventure, Fantasy</td>\n",
       "      <td>2019</td>\n",
       "      <td>8.2</td>\n",
       "      <td>303278</td>\n",
       "    </tr>\n",
       "  </tbody>\n",
       "</table>\n",
       "</div>"
      ],
      "text/plain": [
       "               movie durasi(menit)                                   genre  \\\n",
       "0    The Mandalorian            40   Action, Adventure, Sci-Fi               \n",
       "1    For All Mankind            60               Drama, Sci-Fi               \n",
       "2           The Boys            60       Action, Comedy, Crime               \n",
       "3  Avengers: Endgame           181    Action, Adventure, Drama               \n",
       "4        The Witcher            60  Action, Adventure, Fantasy               \n",
       "\n",
       "    year  imdb   votes  \n",
       "0  2019    8.8  296878  \n",
       "1  2019    7.7   13906  \n",
       "2  2019    8.7  251642  \n",
       "3   2019   8.4  827454  \n",
       "4  2019    8.2  303278  "
      ]
     },
     "execution_count": 8,
     "metadata": {},
     "output_type": "execute_result"
    }
   ],
   "source": [
    "df['year'] = df['year'].str.replace(\")\", \"\")\n",
    "df['year'] = df['year'].str.replace(\"(\", \"\")\n",
    "df['year'] = df['year'].str.replace(\"–\", \"\")\n",
    "\n",
    "df['durasi(menit)'] = df['durasi(menit)'].str.replace(\" min\", \"\")\n",
    "\n",
    "df['genre'] = df['genre'].str.replace(\"\\n\", \"\")\n",
    "\n",
    "\n",
    "    \n",
    "df.head()\n"
   ]
  },
  {
   "cell_type": "code",
   "execution_count": 11,
   "metadata": {},
   "outputs": [],
   "source": [
    "df['total_rating'] = df['imdb']*df['votes']"
   ]
  },
  {
   "cell_type": "code",
   "execution_count": 18,
   "metadata": {
    "scrolled": true
   },
   "outputs": [
    {
     "data": {
      "text/plain": [
       "<AxesSubplot:ylabel='movie'>"
      ]
     },
     "execution_count": 18,
     "metadata": {},
     "output_type": "execute_result"
    },
    {
     "data": {
      "image/png": "[encoded data removed]",
      "text/plain": [
       "<Figure size 432x288 with 1 Axes>"
      ]
     },
     "metadata": {
      "needs_background": "light"
     },
     "output_type": "display_data"
    }
   ],
   "source": [
    "#10 Movie Terbaik-berdasarakan rating\n",
    "top10 = pd.crosstab(\n",
    "    index = df['movie'],\n",
    "    columns = 'total',\n",
    "    values = df['imdb'],\n",
    "    aggfunc = 'sum'\n",
    ").sort_values('total', ascending = False)\n",
    "\n",
    "top10.head(10).plot.barh()"
   ]
  },
  {
   "cell_type": "code",
   "execution_count": 17,
   "metadata": {
    "scrolled": true
   },
   "outputs": [
    {
     "data": {
      "text/plain": [
       "<AxesSubplot:ylabel='movie'>"
      ]
     },
     "execution_count": 17,
     "metadata": {},
     "output_type": "execute_result"
    },
    {
     "data": {
      "image/png": "[encoded data removed]",
      "text/plain": [
       "<Figure size 432x288 with 1 Axes>"
      ]
     },
     "metadata": {
      "needs_background": "light"
     },
     "output_type": "display_data"
    }
   ],
   "source": [
    "#10 Movie Terbaik-berdasarakan jumlah rating terbanyak (votes*imdb)\n",
    "top10_rating = pd.crosstab(\n",
    "    index = df['movie'],\n",
    "    columns = 'total',\n",
    "    values = df['total_rating'],\n",
    "    aggfunc = 'sum'\n",
    ").sort_values('total', ascending = False)\n",
    "\n",
    "top10.head(10).plot.barh()"
   ]
  },
  {
   "cell_type": "markdown",
   "metadata": {},
   "source": [
    "### Intepretasi\n",
    "\n",
    "- pada score `imdb` film joker berada pada urutan ke-9 sedangkan untuk peringkat pertama diduduki oleh chernobyl\n",
    "- jika berdasarkan `total_rating` justru <b>joker</b> menempati posisi pertama sedangkan chernobyl berada di peringkat ke-3\n",
    "- ada beberapa film yang masuk top10 berdasarkan `imdb` namun tidak masuk top10 berdasarkan `total_rating` seperti <b> kimetsu no yaiba, yakushoku no neverland, the boys, dll</b>. jika dilihat secara kasar hal ini berarti film tersebut mempunyai `votes` yang sedikit namun setiap orang memberikan nilai/rating yang tinggi"
   ]
  },
  {
   "cell_type": "markdown",
   "metadata": {},
   "source": [
    "### Implementing your webscrapping to the flask dashboard\n",
    "\n",
    "- Copy paste all of your web scrapping process to the desired position on the `app.py`\n",
    "- Changing the title of the dasboard at `index.html`"
   ]
  },
  {
   "cell_type": "markdown",
   "metadata": {},
   "source": [
    "## Finishing This Notebook with Your Analysis and Conclusion\n",
    "\n",
    "First you can do start with making the data visualisation. "
   ]
  },
  {
   "cell_type": "code",
   "execution_count": null,
   "metadata": {
    "ExecuteTime": {
     "end_time": "2020-01-13T05:20:56.208237Z",
     "start_time": "2020-01-13T05:20:56.076043Z"
    }
   },
   "outputs": [],
   "source": []
  },
  {
   "cell_type": "markdown",
   "metadata": {},
   "source": [
    "\n",
    "(Put your analysis and conclusion here.)"
   ]
  },
  {
   "cell_type": "markdown",
   "metadata": {},
   "source": [
    "### Extra Challange\n",
    "\n",
    "This will be not included to the scoring. \n",
    "\n",
    "- You can create additional analysis from the data.\n",
    "- Implement it to the dashboard with at `app.py` dan `index.html`."
   ]
  }
 ],
 "metadata": {
  "kernelspec": {
   "display_name": "python-capstone",
   "language": "python",
   "name": "python-capstone"
  },
  "language_info": {
   "codemirror_mode": {
    "name": "ipython",
    "version": 3
   },
   "file_extension": ".py",
   "mimetype": "text/x-python",
   "name": "python",
   "nbconvert_exporter": "python",
   "pygments_lexer": "ipython3",
   "version": "3.7.10"
  }
 },
 "nbformat": 4,
 "nbformat_minor": 2
}
